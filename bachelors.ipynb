{
 "cells": [
  {
   "cell_type": "code",
   "execution_count": 1,
   "metadata": {},
   "outputs": [],
   "source": [
    "import pandas as pd\n",
    "import matplotlib.pyplot as plt\n",
    "import numpy as np\n",
    "import os\n",
    "import glob"
   ]
  },
  {
   "cell_type": "code",
   "execution_count": 2,
   "metadata": {},
   "outputs": [],
   "source": [
    "os.chdir('K:\\Git')\n",
    "csv_files =glob.glob('*.csv')\n",
    "csv_files"
   ]
  },
  {
   "cell_type": "code",
   "execution_count": 3,
   "metadata": {},
   "outputs": [],
   "source": [
    "%matplotlib inline"
   ]
  },
  {
   "cell_type": "code",
   "execution_count": 4,
   "metadata": {},
   "outputs": [],
   "source": [
    "perc_bachelor=pd.read_csv(csv_files[1])\n",
    "display(perc_bachelor.head(),perc_bachelor.tail())"
   ]
  },
  {
   "cell_type": "code",
   "execution_count": 5,
   "metadata": {},
   "outputs": [],
   "source": [
    "plt.style.use('fivethirtyeight')\n",
    "plt.subplots(figsize=(9,5))\n",
    "plt.plot(perc_bachelor.Year,perc_bachelor['Physical Sciences'],color=\"red\",label=\"% of Graduation Awarded in Physical Science to Women\")\n",
    "plt.plot(perc_bachelor.Year,perc_bachelor['Computer Science'],color=\"blue\",label=\"% of Graduation Awarded in Computer Science to Women\")\n",
    "plt.legend(loc='upper left',frameon=False)\n",
    "plt.show()"
   ]
  },
  {
   "cell_type": "code",
   "execution_count": 6,
   "metadata": {},
   "outputs": [],
   "source": [
    "plt.subplots(1,2,figsize=(9,5))\n",
    "plt.subplot(1,2,1)\n",
    "plt.plot(perc_bachelor.Year,perc_bachelor['Physical Sciences'],color=\"red\")\n",
    "plt.title(\"Physical Science\")\n",
    "plt.subplot(1,2,2)\n",
    "plt.plot(perc_bachelor.Year,perc_bachelor['Computer Science'],color=\"blue\")\n",
    "plt.title(\"Computer Science\")\n",
    "plt.tight_layout()\n",
    "plt.show()"
   ]
  },
  {
   "cell_type": "code",
   "execution_count": 7,
   "metadata": {},
   "outputs": [],
   "source": [
    "plt.plot(perc_bachelor.Year,perc_bachelor['Education'],linewidth=1)\n",
    "plt.annotate(\"Education over the years\",xytext=(1990,73),xy=(1986.88,76.894),arrowprops={'color':'blue',\"linewidth\":0.8})\n",
    "plt.show()"
   ]
  }
 ],
 "metadata": {},
 "nbformat": 4,
 "nbformat_minor": 4
}
